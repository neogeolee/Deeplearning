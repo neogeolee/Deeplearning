{
  "nbformat": 4,
  "nbformat_minor": 0,
  "metadata": {
    "colab": {
      "name": "Text_word2vec_test2.ipynb",
      "provenance": [],
      "collapsed_sections": [],
      "authorship_tag": "ABX9TyN3cVi1Y86zmTnFgmKtkBUF",
      "include_colab_link": true
    },
    "kernelspec": {
      "name": "python3",
      "display_name": "Python 3"
    },
    "accelerator": "GPU"
  },
  "cells": [
    {
      "cell_type": "markdown",
      "metadata": {
        "id": "view-in-github",
        "colab_type": "text"
      },
      "source": [
        "<a href=\"https://colab.research.google.com/github/neogeolee/Deeplearning/blob/master/Text_word2vec_test2.ipynb\" target=\"_parent\"><img src=\"https://colab.research.google.com/assets/colab-badge.svg\" alt=\"Open In Colab\"/></a>"
      ]
    },
    {
      "cell_type": "code",
      "metadata": {
        "id": "RkWvlsguU1jN"
      },
      "source": [
        "pip install konlpy"
      ],
      "execution_count": null,
      "outputs": []
    },
    {
      "cell_type": "code",
      "metadata": {
        "id": "hVMLEzMsVD6k",
        "outputId": "1e5c075c-69c8-4b23-8b5c-d48a8b489ce2",
        "colab": {
          "base_uri": "https://localhost:8080/",
          "height": 127
        }
      },
      "source": [
        "# 구글 드라이브 연동\n",
        "from google.colab import drive\n",
        "drive.mount('/content/drive')"
      ],
      "execution_count": null,
      "outputs": [
        {
          "output_type": "stream",
          "text": [
            "Go to this URL in a browser: https://accounts.google.com/o/oauth2/auth?client_id=947318989803-6bn6qk8qdgf4n4g3pfee6491hc0brc4i.apps.googleusercontent.com&redirect_uri=urn%3aietf%3awg%3aoauth%3a2.0%3aoob&scope=email%20https%3a%2f%2fwww.googleapis.com%2fauth%2fdocs.test%20https%3a%2f%2fwww.googleapis.com%2fauth%2fdrive%20https%3a%2f%2fwww.googleapis.com%2fauth%2fdrive.photos.readonly%20https%3a%2f%2fwww.googleapis.com%2fauth%2fpeopleapi.readonly&response_type=code\n",
            "\n",
            "Enter your authorization code:\n",
            "··········\n",
            "Mounted at /content/drive\n"
          ],
          "name": "stdout"
        }
      ]
    },
    {
      "cell_type": "code",
      "metadata": {
        "id": "RuaUqt38UW0-"
      },
      "source": [
        "\"\"\"\n",
        "날짜 : 2020/09/08\n",
        "이름 : 이태훈\n",
        "내용 : 한글 Word2Vec 실습하기\n",
        "\"\"\"\n",
        "\n",
        "import codecs\n",
        "from konlpy.tag import Okt\n",
        "from gensim.models import word2vec"
      ],
      "execution_count": null,
      "outputs": []
    },
    {
      "cell_type": "code",
      "metadata": {
        "id": "ShDVmh5xU1Cf"
      },
      "source": [
        "# 데이터셋 로드\n",
        "f = codecs.open('/content/drive/My Drive/Tensorflow_works/data/ratings_train.txt', mode='r', encoding='utf-8')\n",
        "lines = f.read().splitlines()\n",
        "f.close()\n"
      ],
      "execution_count": null,
      "outputs": []
    },
    {
      "cell_type": "code",
      "metadata": {
        "id": "M9V76AQIV-p-",
        "outputId": "4b780ff8-53a4-4899-a3e9-7ab414d8fad4",
        "colab": {
          "base_uri": "https://localhost:8080/",
          "height": 35
        }
      },
      "source": [
        "# 데이터 확인\n",
        "lines[1]"
      ],
      "execution_count": null,
      "outputs": [
        {
          "output_type": "execute_result",
          "data": {
            "application/vnd.google.colaboratory.intrinsic+json": {
              "type": "string"
            },
            "text/plain": [
              "'9976970\\t아 더빙.. 진짜 짜증나네요 목소리\\t0'"
            ]
          },
          "metadata": {
            "tags": []
          },
          "execution_count": 26
        }
      ]
    },
    {
      "cell_type": "code",
      "metadata": {
        "id": "IpZtIl2sWSDa",
        "outputId": "a30d2e52-a75c-4c96-a075-c5fe3c596d5d",
        "colab": {
          "base_uri": "https://localhost:8080/",
          "height": 71
        }
      },
      "source": [
        "# 데이터 전처리\n",
        "ratings_train = []\n",
        "for line in lines:\n",
        "  data = line.split('\\t')\n",
        "\n",
        "  ratings_train.append(data)\n",
        "\n",
        "# header 정보 행 제거\n",
        "ratings_train = ratings_train[1:]\n",
        "\n",
        "docs = []\n",
        "for line in ratings_train:\n",
        "  docs.append(line[1])\n",
        "\n",
        "print(docs[0])\n",
        "print(docs[1])\n",
        "print(docs[99])"
      ],
      "execution_count": null,
      "outputs": [
        {
          "output_type": "stream",
          "text": [
            "아 더빙.. 진짜 짜증나네요 목소리\n",
            "흠...포스터보고 초딩영화줄....오버연기조차 가볍지 않구나\n",
            "설정이 재밌고 새로운 에피소드 내에서 메인 스토리도 차차 나오는게 재밌음\n"
          ],
          "name": "stdout"
        }
      ]
    },
    {
      "cell_type": "code",
      "metadata": {
        "id": "APbzSJb-Xlkl",
        "outputId": "da889d3f-8e54-4ec2-d65f-a7973621bcf5",
        "colab": {
          "base_uri": "https://localhost:8080/",
          "height": 197
        }
      },
      "source": [
        "# 데이터 형태소 분석\n",
        "okt = Okt()\n",
        "\n",
        "results = []\n",
        "for doc in docs:\n",
        "  okt_pos = okt.pos(doc, norm=True, stem=True)\n",
        "\n",
        "  #print(okt_pos)\n",
        "  row = []\n",
        "\n",
        "  for word in okt_pos:\n",
        "    row.append(word[0])\n",
        "  \n",
        "  results.append(row)\n",
        "\n",
        "print(results)"
      ],
      "execution_count": null,
      "outputs": [
        {
          "output_type": "stream",
          "text": [
            "IOPub data rate exceeded.\n",
            "The notebook server will temporarily stop sending output\n",
            "to the client in order to avoid crashing it.\n",
            "To change this limit, set the config variable\n",
            "`--NotebookApp.iopub_data_rate_limit`.\n",
            "\n",
            "Current values:\n",
            "NotebookApp.iopub_data_rate_limit=1000000.0 (bytes/sec)\n",
            "NotebookApp.rate_limit_window=3.0 (secs)\n",
            "\n"
          ],
          "name": "stderr"
        }
      ]
    },
    {
      "cell_type": "code",
      "metadata": {
        "id": "NdhRjFNSZUe_",
        "outputId": "f68f9811-6220-4331-ba16-7879e73416f1",
        "colab": {
          "base_uri": "https://localhost:8080/",
          "height": 35
        }
      },
      "source": [
        "# word2vec 모델생성\n",
        "model = word2vec.Word2Vec(results)\n",
        "model"
      ],
      "execution_count": null,
      "outputs": [
        {
          "output_type": "execute_result",
          "data": {
            "text/plain": [
              "<gensim.models.word2vec.Word2Vec at 0x7f60890057b8>"
            ]
          },
          "metadata": {
            "tags": []
          },
          "execution_count": 35
        }
      ]
    },
    {
      "cell_type": "code",
      "metadata": {
        "id": "j_jeU0HHaeT_",
        "outputId": "029268d4-6d8b-44e6-cd51-77936e18953a",
        "colab": {
          "base_uri": "https://localhost:8080/",
          "height": 109
        }
      },
      "source": [
        "# 단어 연관성 확인\n",
        "rs1 = model.wv.most_similar(positive=['남자', '여배우'],\n",
        "                             negative=['배우'])\n",
        "\n",
        "rs2 = model.wv.most_similar(positive=['정우성', '조인성'])\n",
        "\n",
        "print('rs1 : ', rs1)\n",
        "print('rs2 : ', rs2)"
      ],
      "execution_count": null,
      "outputs": [
        {
          "output_type": "stream",
          "text": [
            "rs1 :  [('여자', 0.82037752866745), ('여자애', 0.7159827947616577), ('꼬마', 0.6895105242729187), ('고양이', 0.6804819107055664), ('아빠', 0.6711869239807129), ('아줌마', 0.6655911207199097), ('아기', 0.6633279919624329), ('엄마', 0.6563366651535034), ('할아버지', 0.6517873406410217), ('녀', 0.6489109992980957)]\n",
            "rs2 :  [('전도연', 0.9052563905715942), ('헬렌', 0.8942587375640869), ('임수정', 0.8930876851081848), ('송일국', 0.8894155621528625), ('이다해', 0.8883690237998962), ('스트립', 0.8882699012756348), ('더스틴', 0.8874635100364685), ('이종혁', 0.8864163160324097), ('박예진', 0.8863067626953125), ('패닝', 0.8860794305801392)]\n"
          ],
          "name": "stdout"
        },
        {
          "output_type": "stream",
          "text": [
            "/usr/local/lib/python3.6/dist-packages/gensim/matutils.py:737: FutureWarning: Conversion of the second argument of issubdtype from `int` to `np.signedinteger` is deprecated. In future, it will be treated as `np.int64 == np.dtype(int).type`.\n",
            "  if np.issubdtype(vec.dtype, np.int):\n"
          ],
          "name": "stderr"
        }
      ]
    },
    {
      "cell_type": "code",
      "metadata": {
        "id": "aNOzq4igmD_T"
      },
      "source": [
        ""
      ],
      "execution_count": null,
      "outputs": []
    }
  ]
}