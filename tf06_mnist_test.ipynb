{
  "nbformat": 4,
  "nbformat_minor": 0,
  "metadata": {
    "colab": {
      "name": "tf06_mnist_test.ipynb",
      "provenance": [],
      "collapsed_sections": [],
      "authorship_tag": "ABX9TyMoeeFdRWIrjyib4FEILbtk",
      "include_colab_link": true
    },
    "kernelspec": {
      "name": "python3",
      "display_name": "Python 3"
    }
  },
  "cells": [
    {
      "cell_type": "markdown",
      "metadata": {
        "id": "view-in-github",
        "colab_type": "text"
      },
      "source": [
        "<a href=\"https://colab.research.google.com/github/neogeolee/Deeplearning/blob/master/tf06_mnist_test.ipynb\" target=\"_parent\"><img src=\"https://colab.research.google.com/assets/colab-badge.svg\" alt=\"Open In Colab\"/></a>"
      ]
    },
    {
      "cell_type": "code",
      "metadata": {
        "id": "9HKdtq-dGvuU"
      },
      "source": [
        "\"\"\"\n",
        "날짜 : 2020/08/19\n",
        "이름 : 이태훈\n",
        "내용 : 딥러닝 mnist 이미지 분류 실습하기\n",
        "\"\"\"\n",
        "import matplotlib.pyplot as plt\n",
        "import numpy as np\n",
        "from tensorflow.keras.datasets.mnist import load_data\n",
        "from tensorflow.keras.utils import to_categorical\n",
        "from tensorflow.keras.models import Sequential\n",
        "from tensorflow.keras.layers import Dense, Flatten\n",
        "from sklearn.model_selection import train_test_split\n",
        "from PIL import Image # 파이썬 이미지 처리 라이브러리"
      ],
      "execution_count": null,
      "outputs": []
    },
    {
      "cell_type": "code",
      "metadata": {
        "id": "DymqBqNIIC4A",
        "outputId": "00bb5e7c-b8fd-40a7-8b52-c6ce53f23a8e",
        "colab": {
          "base_uri": "https://localhost:8080/",
          "height": 35
        }
      },
      "source": [
        "# 구글드라이브연동\n",
        "from google.colab import drive\n",
        "drive.mount('/content/drive')"
      ],
      "execution_count": null,
      "outputs": [
        {
          "output_type": "stream",
          "text": [
            "Drive already mounted at /content/drive; to attempt to forcibly remount, call drive.mount(\"/content/drive\", force_remount=True).\n"
          ],
          "name": "stdout"
        }
      ]
    },
    {
      "cell_type": "code",
      "metadata": {
        "id": "hu22AtRFIyFg",
        "outputId": "4485e74a-70a7-46f5-b9be-cf2ac41e868f",
        "colab": {
          "base_uri": "https://localhost:8080/",
          "height": 719
        }
      },
      "source": [
        "# 구글드라이브 이미지 로드하기\n",
        "img1 = Image.open('/content/drive/My Drive/Tensorflow_works/data/mnist_img1.jpg')\n",
        "img2 = Image.open('/content/drive/My Drive/Tensorflow_works/data/mnist_img2.jpg')\n",
        "img3 = Image.open('/content/drive/My Drive/Tensorflow_works/data/mnist_img3.jpg')\n",
        "img4 = Image.open('/content/drive/My Drive/Tensorflow_works/data/mnist_img4.jpg')\n",
        "img5 = Image.open('/content/drive/My Drive/Tensorflow_works/data/mnist_img5.jpg')\n",
        "\n",
        "# 이미지 파일의 픽셀값 추출\n",
        "img1_px = np.array(img1)\n",
        "img2_px = np.array(img2)\n",
        "img3_px = np.array(img3)\n",
        "img4_px = np.array(img4)\n",
        "img5_px = np.array(img5)\n",
        "\n",
        "img_arr = np.array([img1_px, img2_px, img3_px, img4_px, img5_px])\n",
        "img_arr = img_arr / 255\n",
        "img_arr"
      ],
      "execution_count": null,
      "outputs": [
        {
          "output_type": "execute_result",
          "data": {
            "text/plain": [
              "array([[[0., 0., 0., ..., 0., 0., 0.],\n",
              "        [0., 0., 0., ..., 0., 0., 0.],\n",
              "        [0., 0., 0., ..., 0., 0., 0.],\n",
              "        ...,\n",
              "        [0., 0., 0., ..., 0., 0., 0.],\n",
              "        [0., 0., 0., ..., 0., 0., 0.],\n",
              "        [0., 0., 0., ..., 0., 0., 0.]],\n",
              "\n",
              "       [[0., 0., 0., ..., 0., 0., 0.],\n",
              "        [0., 0., 0., ..., 0., 0., 0.],\n",
              "        [0., 0., 0., ..., 0., 0., 0.],\n",
              "        ...,\n",
              "        [0., 0., 0., ..., 0., 0., 0.],\n",
              "        [0., 0., 0., ..., 0., 0., 0.],\n",
              "        [0., 0., 0., ..., 0., 0., 0.]],\n",
              "\n",
              "       [[0., 0., 0., ..., 0., 0., 0.],\n",
              "        [0., 0., 0., ..., 0., 0., 0.],\n",
              "        [0., 0., 0., ..., 0., 0., 0.],\n",
              "        ...,\n",
              "        [0., 0., 0., ..., 0., 0., 0.],\n",
              "        [0., 0., 0., ..., 0., 0., 0.],\n",
              "        [0., 0., 0., ..., 0., 0., 0.]],\n",
              "\n",
              "       [[0., 0., 0., ..., 0., 0., 0.],\n",
              "        [0., 0., 0., ..., 0., 0., 0.],\n",
              "        [0., 0., 0., ..., 0., 0., 0.],\n",
              "        ...,\n",
              "        [0., 0., 0., ..., 0., 0., 0.],\n",
              "        [0., 0., 0., ..., 0., 0., 0.],\n",
              "        [0., 0., 0., ..., 0., 0., 0.]],\n",
              "\n",
              "       [[0., 0., 0., ..., 0., 0., 0.],\n",
              "        [0., 0., 0., ..., 0., 0., 0.],\n",
              "        [0., 0., 0., ..., 0., 0., 0.],\n",
              "        ...,\n",
              "        [0., 0., 0., ..., 0., 0., 0.],\n",
              "        [0., 0., 0., ..., 0., 0., 0.],\n",
              "        [0., 0., 0., ..., 0., 0., 0.]]])"
            ]
          },
          "metadata": {
            "tags": []
          },
          "execution_count": 78
        }
      ]
    },
    {
      "cell_type": "code",
      "metadata": {
        "id": "1etLF0LbJVgq",
        "outputId": "d3dfaff9-f8e2-4c73-dc08-9b8348691bf3",
        "colab": {
          "base_uri": "https://localhost:8080/",
          "height": 71
        }
      },
      "source": [
        "# 학습데이터 로드\n",
        "(mnist_train_data, mnist_train_label), (mnist_test_data, mnist_test_label) = load_data()\n",
        "\n",
        "# 데이터 형태 확인\n",
        "print(mnist_train_data.shape, mnist_train_label.shape)\n",
        "print(mnist_test_data.shape, mnist_test_label.shape)\n",
        "print(mnist_train_label)"
      ],
      "execution_count": null,
      "outputs": [
        {
          "output_type": "stream",
          "text": [
            "(60000, 28, 28) (60000,)\n",
            "(10000, 28, 28) (10000,)\n",
            "[5 0 4 ... 5 6 8]\n"
          ],
          "name": "stdout"
        }
      ]
    },
    {
      "cell_type": "code",
      "metadata": {
        "id": "f3EaQ8zEKa3o",
        "outputId": "a0ceb2d1-c658-4542-9b65-0a88fbf589ea",
        "colab": {
          "base_uri": "https://localhost:8080/",
          "height": 244
        }
      },
      "source": [
        "# 데이터 샘플 이미지 출력\n",
        "random_idx = np.random.randint(60000, size=5)\n",
        "print(random_idx)\n",
        "\n",
        "plt.figure(figsize=(5, 5))\n",
        "\n",
        "for i, idx in enumerate(random_idx):\n",
        "  plt.subplot(3, 3, i+1)\n",
        "  plt.xticks([])\n",
        "  plt.yticks([])\n",
        "  label = mnist_train_label[idx]\n",
        "  plt.imshow(mnist_train_data[idx, :])\n",
        "  plt.title('number is %d' % label)"
      ],
      "execution_count": null,
      "outputs": [
        {
          "output_type": "stream",
          "text": [
            "[21257 38575  6926 31602 46443]\n"
          ],
          "name": "stdout"
        },
        {
          "output_type": "display_data",
          "data": {
            "image/png": "[encoded data removed]",
            "text/plain": [
              "<Figure size 360x360 with 5 Axes>"
            ]
          },
          "metadata": {
            "tags": []
          }
        }
      ]
    },
    {
      "cell_type": "code",
      "metadata": {
        "id": "2dX5S6WWNVWB",
        "outputId": "76a0800b-0433-4a12-b302-e093dae24abc",
        "colab": {
          "base_uri": "https://localhost:8080/",
          "height": 53
        }
      },
      "source": [
        "# 데이터셋 분할하기\n",
        "train_data, test_data, train_label, test_label = train_test_split(mnist_train_data, mnist_train_label)\n",
        "print('훈련데이터 : ', train_data.shape)\n",
        "print('검증데이터 : ', test_data.shape)"
      ],
      "execution_count": null,
      "outputs": [
        {
          "output_type": "stream",
          "text": [
            "훈련데이터 :  (45000, 28, 28)\n",
            "검증데이터 :  (15000, 28, 28)\n"
          ],
          "name": "stdout"
        }
      ]
    },
    {
      "cell_type": "code",
      "metadata": {
        "id": "NkEQIdNgOBeQ"
      },
      "source": [
        "# 모델학습을 위한 데이터전처리(정규화)\n",
        "train_data = train_data / 255\n",
        "test_data = test_data / 255\n",
        "mnist_test_data = mnist_test_data / 255\n",
        "\n",
        "# 각 데이터의 레이블을 범주형(one-hot encoding) 형태로 변환\n",
        "train_label = to_categorical(train_label)\n",
        "test_label = to_categorical(test_label)\n",
        "mnist_test_label = to_categorical(mnist_test_label)"
      ],
      "execution_count": null,
      "outputs": []
    },
    {
      "cell_type": "code",
      "metadata": {
        "id": "bIGMTflyOnFk"
      },
      "source": [
        "# 학습모델 구성하기\n",
        "model = Sequential()\n",
        "model.add(Flatten(input_shape=(28, 28))) # 입력층\n",
        "model.add(Dense(64, activation='relu')) # 은닉층\n",
        "model.add(Dense(32, activation='relu')) # 은닉층\n",
        "model.add(Dense(10, activation='softmax')) # 출력층"
      ],
      "execution_count": null,
      "outputs": []
    },
    {
      "cell_type": "code",
      "metadata": {
        "id": "SkaI6MDKP9X8"
      },
      "source": [
        "# 학습모델 설정하기\n",
        "model.compile(optimizer='adam',\n",
        "              loss='categorical_crossentropy',\n",
        "              metrics=['acc'])"
      ],
      "execution_count": null,
      "outputs": []
    },
    {
      "cell_type": "code",
      "metadata": {
        "id": "-ERsrHbuQVJu",
        "outputId": "7633f875-24c6-43fd-c716-8cad7f310e3e",
        "colab": {
          "base_uri": "https://localhost:8080/",
          "height": 1000
        }
      },
      "source": [
        "# 학습하기\n",
        "model.fit(train_data,\n",
        "          train_label,\n",
        "          epochs=30,\n",
        "          batch_size=128,\n",
        "          validation_data=(test_data, test_label))"
      ],
      "execution_count": null,
      "outputs": [
        {
          "output_type": "stream",
          "text": [
            "Epoch 1/30\n",
            "352/352 [==============================] - 1s 3ms/step - loss: 0.4629 - acc: 0.8712 - val_loss: 0.2610 - val_acc: 0.9269\n",
            "Epoch 2/30\n",
            "352/352 [==============================] - 1s 3ms/step - loss: 0.2135 - acc: 0.9380 - val_loss: 0.1993 - val_acc: 0.9433\n",
            "Epoch 3/30\n",
            "352/352 [==============================] - 1s 3ms/step - loss: 0.1597 - acc: 0.9527 - val_loss: 0.1656 - val_acc: 0.9527\n",
            "Epoch 4/30\n",
            "352/352 [==============================] - 1s 3ms/step - loss: 0.1249 - acc: 0.9633 - val_loss: 0.1406 - val_acc: 0.9600\n",
            "Epoch 5/30\n",
            "352/352 [==============================] - 1s 3ms/step - loss: 0.1033 - acc: 0.9694 - val_loss: 0.1234 - val_acc: 0.9650\n",
            "Epoch 6/30\n",
            "352/352 [==============================] - 1s 3ms/step - loss: 0.0877 - acc: 0.9739 - val_loss: 0.1237 - val_acc: 0.9633\n",
            "Epoch 7/30\n",
            "352/352 [==============================] - 1s 3ms/step - loss: 0.0759 - acc: 0.9771 - val_loss: 0.1170 - val_acc: 0.9647\n",
            "Epoch 8/30\n",
            "352/352 [==============================] - 1s 3ms/step - loss: 0.0649 - acc: 0.9808 - val_loss: 0.1107 - val_acc: 0.9669\n",
            "Epoch 9/30\n",
            "352/352 [==============================] - 1s 3ms/step - loss: 0.0570 - acc: 0.9830 - val_loss: 0.1113 - val_acc: 0.9666\n",
            "Epoch 10/30\n",
            "352/352 [==============================] - 1s 3ms/step - loss: 0.0507 - acc: 0.9849 - val_loss: 0.1167 - val_acc: 0.9643\n",
            "Epoch 11/30\n",
            "352/352 [==============================] - 1s 3ms/step - loss: 0.0446 - acc: 0.9872 - val_loss: 0.1102 - val_acc: 0.9685\n",
            "Epoch 12/30\n",
            "352/352 [==============================] - 1s 3ms/step - loss: 0.0388 - acc: 0.9887 - val_loss: 0.1102 - val_acc: 0.9685\n",
            "Epoch 13/30\n",
            "352/352 [==============================] - 1s 3ms/step - loss: 0.0340 - acc: 0.9898 - val_loss: 0.1109 - val_acc: 0.9680\n",
            "Epoch 14/30\n",
            "352/352 [==============================] - 1s 3ms/step - loss: 0.0301 - acc: 0.9914 - val_loss: 0.1163 - val_acc: 0.9684\n",
            "Epoch 15/30\n",
            "352/352 [==============================] - 1s 3ms/step - loss: 0.0270 - acc: 0.9921 - val_loss: 0.1175 - val_acc: 0.9685\n",
            "Epoch 16/30\n",
            "352/352 [==============================] - 1s 3ms/step - loss: 0.0239 - acc: 0.9936 - val_loss: 0.1282 - val_acc: 0.9664\n",
            "Epoch 17/30\n",
            "352/352 [==============================] - 1s 3ms/step - loss: 0.0228 - acc: 0.9936 - val_loss: 0.1135 - val_acc: 0.9709\n",
            "Epoch 18/30\n",
            "352/352 [==============================] - 1s 3ms/step - loss: 0.0189 - acc: 0.9945 - val_loss: 0.1143 - val_acc: 0.9703\n",
            "Epoch 19/30\n",
            "352/352 [==============================] - 1s 3ms/step - loss: 0.0187 - acc: 0.9946 - val_loss: 0.1171 - val_acc: 0.9699\n",
            "Epoch 20/30\n",
            "352/352 [==============================] - 1s 3ms/step - loss: 0.0154 - acc: 0.9960 - val_loss: 0.1201 - val_acc: 0.9701\n",
            "Epoch 21/30\n",
            "352/352 [==============================] - 1s 3ms/step - loss: 0.0131 - acc: 0.9967 - val_loss: 0.1271 - val_acc: 0.9683\n",
            "Epoch 22/30\n",
            "352/352 [==============================] - 1s 3ms/step - loss: 0.0117 - acc: 0.9972 - val_loss: 0.1284 - val_acc: 0.9701\n",
            "Epoch 23/30\n",
            "352/352 [==============================] - 1s 3ms/step - loss: 0.0101 - acc: 0.9976 - val_loss: 0.1254 - val_acc: 0.9717\n",
            "Epoch 24/30\n",
            "352/352 [==============================] - 1s 3ms/step - loss: 0.0124 - acc: 0.9963 - val_loss: 0.1407 - val_acc: 0.9672\n",
            "Epoch 25/30\n",
            "352/352 [==============================] - 1s 3ms/step - loss: 0.0103 - acc: 0.9970 - val_loss: 0.1428 - val_acc: 0.9675\n",
            "Epoch 26/30\n",
            "352/352 [==============================] - 1s 3ms/step - loss: 0.0085 - acc: 0.9976 - val_loss: 0.1345 - val_acc: 0.9707\n",
            "Epoch 27/30\n",
            "352/352 [==============================] - 1s 3ms/step - loss: 0.0078 - acc: 0.9980 - val_loss: 0.1460 - val_acc: 0.9697\n",
            "Epoch 28/30\n",
            "352/352 [==============================] - 1s 3ms/step - loss: 0.0073 - acc: 0.9981 - val_loss: 0.1425 - val_acc: 0.9701\n",
            "Epoch 29/30\n",
            "352/352 [==============================] - 1s 3ms/step - loss: 0.0075 - acc: 0.9981 - val_loss: 0.1451 - val_acc: 0.9713\n",
            "Epoch 30/30\n",
            "352/352 [==============================] - 1s 3ms/step - loss: 0.0058 - acc: 0.9985 - val_loss: 0.1410 - val_acc: 0.9703\n"
          ],
          "name": "stdout"
        },
        {
          "output_type": "execute_result",
          "data": {
            "text/plain": [
              "<tensorflow.python.keras.callbacks.History at 0x7f8aad6b3c18>"
            ]
          },
          "metadata": {
            "tags": []
          },
          "execution_count": 85
        }
      ]
    },
    {
      "cell_type": "code",
      "metadata": {
        "id": "z7x441U-QlbL",
        "outputId": "cf0da223-5646-4f40-86a8-8486c41b36ad",
        "colab": {
          "base_uri": "https://localhost:8080/",
          "height": 53
        }
      },
      "source": [
        "# 평가하기\n",
        "model.evaluate(mnist_test_data, mnist_test_label)"
      ],
      "execution_count": null,
      "outputs": [
        {
          "output_type": "stream",
          "text": [
            "313/313 [==============================] - 0s 970us/step - loss: 0.1264 - acc: 0.9743\n"
          ],
          "name": "stdout"
        },
        {
          "output_type": "execute_result",
          "data": {
            "text/plain": [
              "[0.12644894421100616, 0.9743000268936157]"
            ]
          },
          "metadata": {
            "tags": []
          },
          "execution_count": 86
        }
      ]
    },
    {
      "cell_type": "code",
      "metadata": {
        "id": "ufmP3JfDQ-PU",
        "outputId": "ec7a2e3d-628a-4fbf-888c-4b86ca65b5e4",
        "colab": {
          "base_uri": "https://localhost:8080/",
          "height": 143
        }
      },
      "source": [
        "# 테스트하기\n",
        "result = model.predict(mnist_test_data)\n",
        "result.round()\n",
        "\n",
        "from sklearn.metrics import accuracy_score\n",
        "score = accuracy_score(result.round(), mnist_test_label)\n",
        "print('점수 : ', score)\n",
        "\n",
        "final_result = model.predict(img_arr)\n",
        "print('final_result')\n",
        "print(final_result.round())"
      ],
      "execution_count": null,
      "outputs": [
        {
          "output_type": "stream",
          "text": [
            "점수 :  0.9737\n",
            "final_result\n",
            "[[0. 1. 0. 0. 0. 0. 0. 0. 0. 0.]\n",
            " [0. 0. 1. 0. 0. 0. 0. 0. 0. 0.]\n",
            " [0. 0. 0. 1. 0. 0. 0. 0. 0. 0.]\n",
            " [0. 0. 0. 0. 1. 0. 0. 0. 0. 0.]\n",
            " [0. 0. 0. 0. 0. 1. 0. 0. 0. 0.]]\n"
          ],
          "name": "stdout"
        }
      ]
    },
    {
      "cell_type": "code",
      "metadata": {
        "id": "wXFzgWp7RInR"
      },
      "source": [
        ""
      ],
      "execution_count": null,
      "outputs": []
    }
  ]
}