{
  "nbformat": 4,
  "nbformat_minor": 0,
  "metadata": {
    "colab": {
      "name": "tf10_auto_encoder_test1.ipynb",
      "provenance": [],
      "collapsed_sections": [],
      "authorship_tag": "ABX9TyNSRTzxlbAmeMXB6CSAvBmv",
      "include_colab_link": true
    },
    "kernelspec": {
      "name": "python3",
      "display_name": "Python 3"
    },
    "accelerator": "TPU"
  },
  "cells": [
    {
      "cell_type": "markdown",
      "metadata": {
        "id": "view-in-github",
        "colab_type": "text"
      },
      "source": [
        "<a href=\"https://colab.research.google.com/github/neogeolee/Deeplearning/blob/master/tf10_auto_encoder_test1.ipynb\" target=\"_parent\"><img src=\"https://colab.research.google.com/assets/colab-badge.svg\" alt=\"Open In Colab\"/></a>"
      ]
    },
    {
      "cell_type": "code",
      "metadata": {
        "id": "mA9Y-2TlBvFP",
        "outputId": "e6c0f775-4d53-4f4e-cecc-b42859b54626",
        "colab": {
          "base_uri": "https://localhost:8080/",
          "height": 35
        }
      },
      "source": [
        "\"\"\"\n",
        "날짜 : 2020/08/25\n",
        "이름 : 이태훈\n",
        "내용 : 딥러닝 오토인코더 개념실습하기\n",
        "\"\"\"\n",
        "import numpy as np\n",
        "import tensorflow as tf\n",
        "import matplotlib.pyplot as plt\n",
        "from tensorflow.keras.layers import Input, Dense\n",
        "from tensorflow.keras.models import Model\n",
        "\n",
        "tf.__version__"
      ],
      "execution_count": null,
      "outputs": [
        {
          "output_type": "execute_result",
          "data": {
            "application/vnd.google.colaboratory.intrinsic+json": {
              "type": "string"
            },
            "text/plain": [
              "'2.3.0'"
            ]
          },
          "metadata": {
            "tags": []
          },
          "execution_count": 5
        }
      ]
    },
    {
      "cell_type": "code",
      "metadata": {
        "id": "2UgHhPRKDxeQ",
        "outputId": "e381abee-995f-4a83-f637-c6c6b23b402d",
        "colab": {
          "base_uri": "https://localhost:8080/",
          "height": 71
        }
      },
      "source": [
        "# MNIST 데이터셋 로드\n",
        "(x_train, y_train), (x_test, y_test) = tf.keras.datasets.mnist.load_data()\n",
        "x_train.shape, y_train.shape\n",
        "x_train[0]\n",
        "y_train[0]"
      ],
      "execution_count": null,
      "outputs": [
        {
          "output_type": "stream",
          "text": [
            "Downloading data from https://storage.googleapis.com/tensorflow/tf-keras-datasets/mnist.npz\n",
            "11493376/11490434 [==============================] - 0s 0us/step\n"
          ],
          "name": "stdout"
        },
        {
          "output_type": "execute_result",
          "data": {
            "text/plain": [
              "5"
            ]
          },
          "metadata": {
            "tags": []
          },
          "execution_count": 6
        }
      ]
    },
    {
      "cell_type": "code",
      "metadata": {
        "id": "Kb3Wv5UJE420",
        "outputId": "214416af-f1e9-4a89-893e-9b45eed6ab89",
        "colab": {
          "base_uri": "https://localhost:8080/",
          "height": 35
        }
      },
      "source": [
        "# 데이터 전처리\n",
        "x_train = x_train.reshape(-1, 28 * 28) / 255.0\n",
        "x_test = x_test.reshape(-1, 28 * 28) / 255.0\n",
        "x_train.shape"
      ],
      "execution_count": null,
      "outputs": [
        {
          "output_type": "execute_result",
          "data": {
            "text/plain": [
              "(60000, 784)"
            ]
          },
          "metadata": {
            "tags": []
          },
          "execution_count": 7
        }
      ]
    },
    {
      "cell_type": "code",
      "metadata": {
        "id": "zb3sLhwxF-zl",
        "outputId": "0c66fa06-0507-40fb-cbf8-ee61d7b80d7a",
        "colab": {
          "base_uri": "https://localhost:8080/",
          "height": 269
        }
      },
      "source": [
        "# 오토인코더 모델 구성\n",
        "inputs = Input(shape=(784,))\n",
        "hidden = Dense(32, activation='relu')(inputs)\n",
        "outputs = Dense(784, activation='sigmoid')(hidden)\n",
        "\n",
        "auto_encoder = Model(inputs, outputs)\n",
        "auto_encoder.summary()"
      ],
      "execution_count": null,
      "outputs": [
        {
          "output_type": "stream",
          "text": [
            "Model: \"functional_3\"\n",
            "_________________________________________________________________\n",
            "Layer (type)                 Output Shape              Param #   \n",
            "=================================================================\n",
            "input_3 (InputLayer)         [(None, 784)]             0         \n",
            "_________________________________________________________________\n",
            "dense_4 (Dense)              (None, 32)                25120     \n",
            "_________________________________________________________________\n",
            "dense_5 (Dense)              (None, 784)               25872     \n",
            "=================================================================\n",
            "Total params: 50,992\n",
            "Trainable params: 50,992\n",
            "Non-trainable params: 0\n",
            "_________________________________________________________________\n"
          ],
          "name": "stdout"
        }
      ]
    },
    {
      "cell_type": "code",
      "metadata": {
        "id": "HEU-3n7mHf7O",
        "outputId": "63eb9781-f455-4c77-9197-b582bda48934",
        "colab": {
          "base_uri": "https://localhost:8080/",
          "height": 755
        }
      },
      "source": [
        "# 모델 설정하기\n",
        "auto_encoder.compile(optimizer='adam', loss='binary_crossentropy')\n",
        "auto_encoder.fit(x_train, x_train, epochs=20, batch_size=256)"
      ],
      "execution_count": null,
      "outputs": [
        {
          "output_type": "stream",
          "text": [
            "Epoch 1/20\n",
            "235/235 [==============================] - 2s 7ms/step - loss: 0.0932\n",
            "Epoch 2/20\n",
            "235/235 [==============================] - 2s 6ms/step - loss: 0.0932\n",
            "Epoch 3/20\n",
            "235/235 [==============================] - 2s 6ms/step - loss: 0.0931\n",
            "Epoch 4/20\n",
            "235/235 [==============================] - 2s 6ms/step - loss: 0.0931\n",
            "Epoch 5/20\n",
            "235/235 [==============================] - 2s 7ms/step - loss: 0.0931\n",
            "Epoch 6/20\n",
            "235/235 [==============================] - 2s 6ms/step - loss: 0.0931\n",
            "Epoch 7/20\n",
            "235/235 [==============================] - 2s 7ms/step - loss: 0.0930\n",
            "Epoch 8/20\n",
            "235/235 [==============================] - 2s 7ms/step - loss: 0.0930\n",
            "Epoch 9/20\n",
            "235/235 [==============================] - 2s 6ms/step - loss: 0.0930\n",
            "Epoch 10/20\n",
            "235/235 [==============================] - 2s 6ms/step - loss: 0.0930\n",
            "Epoch 11/20\n",
            "235/235 [==============================] - 2s 7ms/step - loss: 0.0930\n",
            "Epoch 12/20\n",
            "235/235 [==============================] - 2s 7ms/step - loss: 0.0929\n",
            "Epoch 13/20\n",
            "235/235 [==============================] - 2s 6ms/step - loss: 0.0929\n",
            "Epoch 14/20\n",
            "235/235 [==============================] - 2s 7ms/step - loss: 0.0929\n",
            "Epoch 15/20\n",
            "235/235 [==============================] - 2s 7ms/step - loss: 0.0929\n",
            "Epoch 16/20\n",
            "235/235 [==============================] - 2s 7ms/step - loss: 0.0929\n",
            "Epoch 17/20\n",
            "235/235 [==============================] - 2s 7ms/step - loss: 0.0929\n",
            "Epoch 18/20\n",
            "235/235 [==============================] - 2s 7ms/step - loss: 0.0929\n",
            "Epoch 19/20\n",
            "235/235 [==============================] - 2s 6ms/step - loss: 0.0928\n",
            "Epoch 20/20\n",
            "235/235 [==============================] - 2s 7ms/step - loss: 0.0928\n"
          ],
          "name": "stdout"
        },
        {
          "output_type": "execute_result",
          "data": {
            "text/plain": [
              "<tensorflow.python.keras.callbacks.History at 0x7f514e9dc9b0>"
            ]
          },
          "metadata": {
            "tags": []
          },
          "execution_count": 14
        }
      ]
    },
    {
      "cell_type": "code",
      "metadata": {
        "id": "QiWXcNZLIY4U",
        "outputId": "a05c1a8e-df73-4887-c312-3626f05d8882",
        "colab": {
          "base_uri": "https://localhost:8080/",
          "height": 251
        }
      },
      "source": [
        "# 예측하기\n",
        "result = auto_encoder.predict(x_test)\n",
        "result"
      ],
      "execution_count": null,
      "outputs": [
        {
          "output_type": "execute_result",
          "data": {
            "text/plain": [
              "array([[3.0007474e-12, 2.7344429e-12, 4.0830989e-12, ..., 1.3188905e-11,\n",
              "        1.5632836e-12, 2.3992143e-11],\n",
              "       [1.0763685e-12, 4.4474363e-13, 9.4008714e-16, ..., 1.3059101e-13,\n",
              "        6.4635677e-13, 1.0108282e-13],\n",
              "       [2.2807681e-08, 1.1218366e-08, 2.0444283e-08, ..., 8.8487999e-09,\n",
              "        2.3617332e-08, 1.1449735e-08],\n",
              "       ...,\n",
              "       [1.7378514e-17, 1.4079511e-17, 2.3774269e-18, ..., 9.7553499e-17,\n",
              "        1.6967711e-18, 1.1296435e-16],\n",
              "       [8.5429253e-15, 5.5257939e-15, 1.4421221e-15, ..., 2.7234405e-15,\n",
              "        3.5201616e-15, 9.2527990e-15],\n",
              "       [7.4382563e-25, 9.5582726e-25, 1.1398143e-26, ..., 9.0851186e-24,\n",
              "        8.2896179e-26, 5.4751360e-25]], dtype=float32)"
            ]
          },
          "metadata": {
            "tags": []
          },
          "execution_count": 16
        }
      ]
    },
    {
      "cell_type": "code",
      "metadata": {
        "id": "mhD0wqlYInnt",
        "outputId": "b6038868-b250-4ef3-8d0a-8b9fd72e751d",
        "colab": {
          "base_uri": "https://localhost:8080/",
          "height": 264
        }
      },
      "source": [
        "# 예측값 이미지 출력\n",
        "plt.figure(figsize=(20, 4))\n",
        "for i in range(10):\n",
        "  # original Image\n",
        "  ax = plt.subplot(2, 10, i+1)\n",
        "  ax.set_title('original Image')\n",
        "  plt.imshow(x_test[i].reshape(28, 28))\n",
        "  plt.gray()\n",
        "  ax.get_xaxis().set_visible(False)\n",
        "  ax.get_yaxis().set_visible(False)\n",
        "\n",
        "  # result Image\n",
        "  ax = plt.subplot(2, 10, i+11)\n",
        "  ax.set_title('result Image')\n",
        "  plt.imshow(result[i].reshape(28, 28))\n",
        "  plt.gray()\n",
        "  ax.get_xaxis().set_visible(False)\n",
        "  ax.get_yaxis().set_visible(False)"
      ],
      "execution_count": null,
      "outputs": [
        {
          "output_type": "display_data",
          "data": {
            "image/png": "[encoded data removed]",
            "text/plain": [
              "<Figure size 1440x288 with 20 Axes>"
            ]
          },
          "metadata": {
            "tags": [],
            "needs_background": "light"
          }
        }
      ]
    },
    {
      "cell_type": "code",
      "metadata": {
        "id": "dUxnsDgTJerr"
      },
      "source": [
        ""
      ],
      "execution_count": null,
      "outputs": []
    }
  ]
}